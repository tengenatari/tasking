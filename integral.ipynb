{
  "nbformat": 4,
  "nbformat_minor": 0,
  "metadata": {
    "colab": {
      "provenance": []
    },
    "kernelspec": {
      "name": "python3",
      "display_name": "Python 3"
    },
    "language_info": {
      "name": "python"
    }
  },
  "cells": [
    {
      "cell_type": "code",
      "execution_count": null,
      "metadata": {
        "id": "1hnVzg0CuL32"
      },
      "outputs": [],
      "source": [
        "import numpy as np\n",
        "from matplotlib import pyplot as plt"
      ]
    },
    {
      "cell_type": "code",
      "source": [
        "def f(x):\n",
        "  return np.sin(x) + np.cos(x)\n",
        "def df(x):\n",
        "  return np.cos(x) - np.sin(x)\n",
        "def ddf(x):\n",
        "  return - np.sin(x) - np.cos(x)\n",
        "\n",
        "def left_rectangles():\n",
        "  return h * (y[:n-1].sum())\n",
        "def left_rectangles_error():\n",
        "  max_df = np.apply_along_axis(df, 0, x).max()\n",
        "  return max_df/2*h*(b-a)\n",
        "\n",
        "def right_rectangles():\n",
        "  return h * (y[1:].sum())\n",
        "def right_rectangles_error():\n",
        "  max_df = np.apply_along_axis(df, 0, x).max()\n",
        "  return max_df/2*h*(b-a)\n",
        "\n",
        "def center_rectangles():\n",
        "  return h * (np.apply_along_axis(lambda i: f(i - h/2), 0, x[1:n-1]).sum())\n",
        "def center_rectangles_error():\n",
        "  max_df = np.apply_along_axis(ddf, 0, x).min()\n",
        "  return max_df*(h)*(b-a)/24\n",
        "\n",
        "def trapeze():\n",
        "  return h * ((y[0] + y[-1])/2 + y[1:n-1].sum())\n",
        "def trapeze_error():\n",
        "  return (b-a)*(f(a)+4*f((a+b)/2)+f(b))/12\n",
        "\n",
        "def Simpson():\n",
        "  return (b-a)/6 * (f(a) + 4*f(a+b/2) + f(b))\n",
        "def Simpson_error():\n",
        "  max_df4 = b\n",
        "  return ((b-a)**5)*max_df4/2880\n",
        "a, b = 0, np.pi\n",
        "n = 10000\n",
        "h = (b-a)/n\n",
        "x = np.linspace(a, b, n)\n",
        "y = np.apply_along_axis(f, 0, x)\n",
        "ans = 2"
      ],
      "metadata": {
        "id": "CSR94eB7ubv0"
      },
      "execution_count": null,
      "outputs": []
    },
    {
      "cell_type": "code",
      "source": [
        "print(f\"Для заданного n = {n}\")\n",
        "print(f\"Функция: f(x) = sin(x) + cos(x)\")\n",
        "print(f\"Интервал: [{a:.2f}, {b:.2f}]\")\n",
        "print(f\"Точное значение: {ans}\")\n",
        "print()\n",
        "print(f\"\"\"Метод левых прямоугольников:\n",
        "    ответ : {left_rectangles():.8f}\n",
        "    ошибка: {abs(ans - left_rectangles()):.3e}\n",
        "    оценка: {left_rectangles_error():.3e}\n",
        "Метод правых прямоугольников:\n",
        "    ответ : {right_rectangles():.8f}\n",
        "    ошибка: {abs(ans - right_rectangles()):.3e}\n",
        "    оценка: {left_rectangles_error():.3e}\n",
        "Метод центральных прямоугольников:\n",
        "    ответ : {center_rectangles():.8f}\n",
        "    ошибка: {abs(ans - center_rectangles()):.3e}\n",
        "    оценка: {center_rectangles_error():.3e}\n",
        "Метод трапеций:\n",
        "    ответ : {trapeze():.8e}\n",
        "    ошибка: {abs(ans - trapeze()):.3e}\n",
        "    оценка: {trapeze_error():.3e}\n",
        "Метод Симпсона:\n",
        "    ответ : {Simpson():.8e}\n",
        "    ошибка: {abs(ans - Simpson()):.3e}\n",
        "    оценка: {Simpson_error():.3e}\"\"\")"
      ],
      "metadata": {
        "colab": {
          "base_uri": "https://localhost:8080/"
        },
        "id": "S7ut88VI3qvH",
        "outputId": "5077f33f-0851-4a72-8490-23c2d772ee3f"
      },
      "execution_count": null,
      "outputs": [
        {
          "output_type": "stream",
          "name": "stdout",
          "text": [
            "Для заданного n = 10000\n",
            "Функция: f(x) = sin(x) + cos(x)\n",
            "Интервал: [0.00, 3.14]\n",
            "Точное значение: 2\n",
            "\n",
            "Метод левых прямоугольников:\n",
            "    ответ : 2.00011414\n",
            "    ошибка: 1.141e-04\n",
            "    оценка: 4.935e-04\n",
            "Метод правых прямоугольников:\n",
            "    ответ : 1.99948582\n",
            "    ошибка: 5.142e-04\n",
            "    оценка: 4.935e-04\n",
            "Метод центральных прямоугольников:\n",
            "    ответ : 2.00011409\n",
            "    ошибка: 1.141e-04\n",
            "    оценка: -5.816e-05\n",
            "Метод трапеций:\n",
            "    ответ : 1.99979998e+00\n",
            "    ошибка: 2.000e-04\n",
            "    оценка: 1.047e+00\n",
            "Метод Симпсона:\n",
            "    ответ : 2.09439510e+00\n",
            "    ошибка: 9.440e-02\n",
            "    оценка: 3.338e-01\n"
          ]
        }
      ]
    },
    {
      "cell_type": "code",
      "source": [],
      "metadata": {
        "id": "wo-_fDEjOf16"
      },
      "execution_count": null,
      "outputs": []
    },
    {
      "cell_type": "code",
      "source": [],
      "metadata": {
        "id": "lOVdappUOfnz"
      },
      "execution_count": null,
      "outputs": []
    },
    {
      "cell_type": "code",
      "source": [],
      "metadata": {
        "id": "AFadfaVvOfQG"
      },
      "execution_count": null,
      "outputs": []
    },
    {
      "cell_type": "code",
      "source": [
        "# def left_rectangles_():\n",
        "#   n = 10\n",
        "#   h = (b-a)/n\n",
        "#   x = np.linspace(a, b, n)\n",
        "#   y = np.apply_along_axis(f, 0, x)\n",
        "#   ans = h * (y[:n-1].sum())\n",
        "#   max_df = np.apply_along_axis(df, 0, x).max()\n",
        "#   miss = max_df/2*(h**2)\n",
        "#   error =\n",
        "#   while\n",
        "\n",
        "# def right_rectangles():\n",
        "#   return h * (y[1:].sum())\n",
        "# def right_rectangles_error():\n",
        "#   max_df = np.apply_along_axis(df, 0, x).max()\n",
        "#   return max_df/2*(h**2)\n",
        "\n",
        "# def center_rectangles():\n",
        "#   return h * (np.apply_along_axis(lambda i: f(i + h/2), 0, x[:n-1]).sum())\n",
        "# def center_rectangles_error():\n",
        "#   max_df = np.apply_along_axis(ddf, 0, x).max()\n",
        "#   return max_df*(h**3)*n/24\n",
        "\n",
        "# def trapeze():\n",
        "#   return h * ((y[0] + y[-1])/2 + y[1:n-1].sum())\n",
        "# def trapeze_error():\n",
        "#   return (b-a)*(f(a)+4*f((a+b)/2)+f(b))/12"
      ],
      "metadata": {
        "id": "Y9yY480mNIir"
      },
      "execution_count": null,
      "outputs": []
    }
  ]
}