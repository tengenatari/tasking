{
 "cells": [
  {
   "cell_type": "markdown",
   "id": "a0ed4546db2d60ad",
   "metadata": {},
   "source": [
    "Импорт необходимых библиотек"
   ]
  },
  {
   "cell_type": "code",
   "execution_count": 1,
   "id": "d01e84e8b0b6e362",
   "metadata": {
    "ExecuteTime": {
     "end_time": "2024-10-21T18:09:33.576426Z",
     "start_time": "2024-10-21T18:09:31.570275Z"
    }
   },
   "outputs": [],
   "source": [
    "import numpy as np\n",
    "import pandas as pd\n",
    "from matplotlib import pyplot as plt\n"
   ]
  },
  {
   "cell_type": "markdown",
   "id": "d7a152a6a0fe29eb",
   "metadata": {},
   "source": [
    "# А. Загрузка данных\n"
   ]
  },
  {
   "cell_type": "markdown",
   "id": "2cb52564-c5f4-4a78-beff-ea425eeb1f0e",
   "metadata": {},
   "source": [
    "## 1.\tЗагрузить датасет из прилагаемого файла (Данные представлены в виде csv таблицы). Можно скачать отсюда https://www.kaggle.com/datasets/andrewmvd/heart-failure-clinical-data."
   ]
  },
  {
   "cell_type": "code",
   "execution_count": 2,
   "id": "41252e91538692a8",
   "metadata": {},
   "outputs": [
    {
     "data": {
      "text/html": [
       "<div>\n",
       "<style scoped>\n",
       "    .dataframe tbody tr th:only-of-type {\n",
       "        vertical-align: middle;\n",
       "    }\n",
       "\n",
       "    .dataframe tbody tr th {\n",
       "        vertical-align: top;\n",
       "    }\n",
       "\n",
       "    .dataframe thead th {\n",
       "        text-align: right;\n",
       "    }\n",
       "</style>\n",
       "<table border=\"1\" class=\"dataframe\">\n",
       "  <thead>\n",
       "    <tr style=\"text-align: right;\">\n",
       "      <th></th>\n",
       "      <th>age</th>\n",
       "      <th>anaemia</th>\n",
       "      <th>creatinine_phosphokinase</th>\n",
       "      <th>diabetes</th>\n",
       "      <th>ejection_fraction</th>\n",
       "      <th>high_blood_pressure</th>\n",
       "      <th>platelets</th>\n",
       "      <th>serum_creatinine</th>\n",
       "      <th>serum_sodium</th>\n",
       "      <th>sex</th>\n",
       "      <th>smoking</th>\n",
       "      <th>time</th>\n",
       "      <th>DEATH_EVENT</th>\n",
       "    </tr>\n",
       "  </thead>\n",
       "  <tbody>\n",
       "    <tr>\n",
       "      <th>0</th>\n",
       "      <td>75.0</td>\n",
       "      <td>0</td>\n",
       "      <td>582</td>\n",
       "      <td>0</td>\n",
       "      <td>20</td>\n",
       "      <td>1</td>\n",
       "      <td>265000.00</td>\n",
       "      <td>1.9</td>\n",
       "      <td>130</td>\n",
       "      <td>1</td>\n",
       "      <td>0</td>\n",
       "      <td>4</td>\n",
       "      <td>1</td>\n",
       "    </tr>\n",
       "    <tr>\n",
       "      <th>1</th>\n",
       "      <td>55.0</td>\n",
       "      <td>0</td>\n",
       "      <td>7861</td>\n",
       "      <td>0</td>\n",
       "      <td>38</td>\n",
       "      <td>0</td>\n",
       "      <td>263358.03</td>\n",
       "      <td>1.1</td>\n",
       "      <td>136</td>\n",
       "      <td>1</td>\n",
       "      <td>0</td>\n",
       "      <td>6</td>\n",
       "      <td>1</td>\n",
       "    </tr>\n",
       "    <tr>\n",
       "      <th>2</th>\n",
       "      <td>65.0</td>\n",
       "      <td>0</td>\n",
       "      <td>146</td>\n",
       "      <td>0</td>\n",
       "      <td>20</td>\n",
       "      <td>0</td>\n",
       "      <td>162000.00</td>\n",
       "      <td>1.3</td>\n",
       "      <td>129</td>\n",
       "      <td>1</td>\n",
       "      <td>1</td>\n",
       "      <td>7</td>\n",
       "      <td>1</td>\n",
       "    </tr>\n",
       "    <tr>\n",
       "      <th>3</th>\n",
       "      <td>50.0</td>\n",
       "      <td>1</td>\n",
       "      <td>111</td>\n",
       "      <td>0</td>\n",
       "      <td>20</td>\n",
       "      <td>0</td>\n",
       "      <td>210000.00</td>\n",
       "      <td>1.9</td>\n",
       "      <td>137</td>\n",
       "      <td>1</td>\n",
       "      <td>0</td>\n",
       "      <td>7</td>\n",
       "      <td>1</td>\n",
       "    </tr>\n",
       "    <tr>\n",
       "      <th>4</th>\n",
       "      <td>65.0</td>\n",
       "      <td>1</td>\n",
       "      <td>160</td>\n",
       "      <td>1</td>\n",
       "      <td>20</td>\n",
       "      <td>0</td>\n",
       "      <td>327000.00</td>\n",
       "      <td>2.7</td>\n",
       "      <td>116</td>\n",
       "      <td>0</td>\n",
       "      <td>0</td>\n",
       "      <td>8</td>\n",
       "      <td>1</td>\n",
       "    </tr>\n",
       "    <tr>\n",
       "      <th>...</th>\n",
       "      <td>...</td>\n",
       "      <td>...</td>\n",
       "      <td>...</td>\n",
       "      <td>...</td>\n",
       "      <td>...</td>\n",
       "      <td>...</td>\n",
       "      <td>...</td>\n",
       "      <td>...</td>\n",
       "      <td>...</td>\n",
       "      <td>...</td>\n",
       "      <td>...</td>\n",
       "      <td>...</td>\n",
       "      <td>...</td>\n",
       "    </tr>\n",
       "    <tr>\n",
       "      <th>294</th>\n",
       "      <td>62.0</td>\n",
       "      <td>0</td>\n",
       "      <td>61</td>\n",
       "      <td>1</td>\n",
       "      <td>38</td>\n",
       "      <td>1</td>\n",
       "      <td>155000.00</td>\n",
       "      <td>1.1</td>\n",
       "      <td>143</td>\n",
       "      <td>1</td>\n",
       "      <td>1</td>\n",
       "      <td>270</td>\n",
       "      <td>0</td>\n",
       "    </tr>\n",
       "    <tr>\n",
       "      <th>295</th>\n",
       "      <td>55.0</td>\n",
       "      <td>0</td>\n",
       "      <td>1820</td>\n",
       "      <td>0</td>\n",
       "      <td>38</td>\n",
       "      <td>0</td>\n",
       "      <td>270000.00</td>\n",
       "      <td>1.2</td>\n",
       "      <td>139</td>\n",
       "      <td>0</td>\n",
       "      <td>0</td>\n",
       "      <td>271</td>\n",
       "      <td>0</td>\n",
       "    </tr>\n",
       "    <tr>\n",
       "      <th>296</th>\n",
       "      <td>45.0</td>\n",
       "      <td>0</td>\n",
       "      <td>2060</td>\n",
       "      <td>1</td>\n",
       "      <td>60</td>\n",
       "      <td>0</td>\n",
       "      <td>742000.00</td>\n",
       "      <td>0.8</td>\n",
       "      <td>138</td>\n",
       "      <td>0</td>\n",
       "      <td>0</td>\n",
       "      <td>278</td>\n",
       "      <td>0</td>\n",
       "    </tr>\n",
       "    <tr>\n",
       "      <th>297</th>\n",
       "      <td>45.0</td>\n",
       "      <td>0</td>\n",
       "      <td>2413</td>\n",
       "      <td>0</td>\n",
       "      <td>38</td>\n",
       "      <td>0</td>\n",
       "      <td>140000.00</td>\n",
       "      <td>1.4</td>\n",
       "      <td>140</td>\n",
       "      <td>1</td>\n",
       "      <td>1</td>\n",
       "      <td>280</td>\n",
       "      <td>0</td>\n",
       "    </tr>\n",
       "    <tr>\n",
       "      <th>298</th>\n",
       "      <td>50.0</td>\n",
       "      <td>0</td>\n",
       "      <td>196</td>\n",
       "      <td>0</td>\n",
       "      <td>45</td>\n",
       "      <td>0</td>\n",
       "      <td>395000.00</td>\n",
       "      <td>1.6</td>\n",
       "      <td>136</td>\n",
       "      <td>1</td>\n",
       "      <td>1</td>\n",
       "      <td>285</td>\n",
       "      <td>0</td>\n",
       "    </tr>\n",
       "  </tbody>\n",
       "</table>\n",
       "<p>299 rows × 13 columns</p>\n",
       "</div>"
      ],
      "text/plain": [
       "      age  anaemia  creatinine_phosphokinase  diabetes  ejection_fraction  \\\n",
       "0    75.0        0                       582         0                 20   \n",
       "1    55.0        0                      7861         0                 38   \n",
       "2    65.0        0                       146         0                 20   \n",
       "3    50.0        1                       111         0                 20   \n",
       "4    65.0        1                       160         1                 20   \n",
       "..    ...      ...                       ...       ...                ...   \n",
       "294  62.0        0                        61         1                 38   \n",
       "295  55.0        0                      1820         0                 38   \n",
       "296  45.0        0                      2060         1                 60   \n",
       "297  45.0        0                      2413         0                 38   \n",
       "298  50.0        0                       196         0                 45   \n",
       "\n",
       "     high_blood_pressure  platelets  serum_creatinine  serum_sodium  sex  \\\n",
       "0                      1  265000.00               1.9           130    1   \n",
       "1                      0  263358.03               1.1           136    1   \n",
       "2                      0  162000.00               1.3           129    1   \n",
       "3                      0  210000.00               1.9           137    1   \n",
       "4                      0  327000.00               2.7           116    0   \n",
       "..                   ...        ...               ...           ...  ...   \n",
       "294                    1  155000.00               1.1           143    1   \n",
       "295                    0  270000.00               1.2           139    0   \n",
       "296                    0  742000.00               0.8           138    0   \n",
       "297                    0  140000.00               1.4           140    1   \n",
       "298                    0  395000.00               1.6           136    1   \n",
       "\n",
       "     smoking  time  DEATH_EVENT  \n",
       "0          0     4            1  \n",
       "1          0     6            1  \n",
       "2          1     7            1  \n",
       "3          0     7            1  \n",
       "4          0     8            1  \n",
       "..       ...   ...          ...  \n",
       "294        1   270            0  \n",
       "295        0   271            0  \n",
       "296        0   278            0  \n",
       "297        1   280            0  \n",
       "298        1   285            0  \n",
       "\n",
       "[299 rows x 13 columns]"
      ]
     },
     "execution_count": 2,
     "metadata": {},
     "output_type": "execute_result"
    }
   ],
   "source": [
    "df = pd.read_csv('heart_failure_clinical_records_dataset.csv') #чтение\n",
    "df"
   ]
  },
  {
   "cell_type": "markdown",
   "id": "b479c32f-b4e1-49eb-ad68-abddec569b3b",
   "metadata": {},
   "source": [
    "## 2.\tСоздать Python скрипт. Загрузить датасет в датафрейм, и исключить бинарные признаки и признак времени. Вывести датафрейм на консоль (простой print(df))."
   ]
  },
  {
   "cell_type": "markdown",
   "id": "e3eef4ad-fed7-40c5-9f35-1d8d7274233f",
   "metadata": {},
   "source": [
    "Посмотрим сколько уникальных значений у каждого признака и удалим те, у которых уникальных значений 2"
   ]
  },
  {
   "cell_type": "code",
   "execution_count": 3,
   "id": "d0cca12e7a8d626c",
   "metadata": {
    "ExecuteTime": {
     "end_time": "2024-10-21T18:19:48.698353Z",
     "start_time": "2024-10-21T18:19:48.692484Z"
    }
   },
   "outputs": [
    {
     "data": {
      "text/plain": [
       "age                          47\n",
       "anaemia                       2\n",
       "creatinine_phosphokinase    208\n",
       "diabetes                      2\n",
       "ejection_fraction            17\n",
       "high_blood_pressure           2\n",
       "platelets                   176\n",
       "serum_creatinine             40\n",
       "serum_sodium                 27\n",
       "sex                           2\n",
       "smoking                       2\n",
       "time                        148\n",
       "DEATH_EVENT                   2\n",
       "dtype: int64"
      ]
     },
     "execution_count": 3,
     "metadata": {},
     "output_type": "execute_result"
    }
   ],
   "source": [
    "df.nunique() #проверяем сколько уникальных значений у признаков"
   ]
  },
  {
   "cell_type": "code",
   "execution_count": 4,
   "id": "46ef90ed-ece8-4fd6-9275-93f611198d5a",
   "metadata": {},
   "outputs": [
    {
     "data": {
      "text/html": [
       "<div>\n",
       "<style scoped>\n",
       "    .dataframe tbody tr th:only-of-type {\n",
       "        vertical-align: middle;\n",
       "    }\n",
       "\n",
       "    .dataframe tbody tr th {\n",
       "        vertical-align: top;\n",
       "    }\n",
       "\n",
       "    .dataframe thead th {\n",
       "        text-align: right;\n",
       "    }\n",
       "</style>\n",
       "<table border=\"1\" class=\"dataframe\">\n",
       "  <thead>\n",
       "    <tr style=\"text-align: right;\">\n",
       "      <th></th>\n",
       "      <th>age</th>\n",
       "      <th>creatinine_phosphokinase</th>\n",
       "      <th>ejection_fraction</th>\n",
       "      <th>platelets</th>\n",
       "      <th>serum_creatinine</th>\n",
       "      <th>serum_sodium</th>\n",
       "    </tr>\n",
       "  </thead>\n",
       "  <tbody>\n",
       "    <tr>\n",
       "      <th>0</th>\n",
       "      <td>75.0</td>\n",
       "      <td>582</td>\n",
       "      <td>20</td>\n",
       "      <td>265000.00</td>\n",
       "      <td>1.9</td>\n",
       "      <td>130</td>\n",
       "    </tr>\n",
       "    <tr>\n",
       "      <th>1</th>\n",
       "      <td>55.0</td>\n",
       "      <td>7861</td>\n",
       "      <td>38</td>\n",
       "      <td>263358.03</td>\n",
       "      <td>1.1</td>\n",
       "      <td>136</td>\n",
       "    </tr>\n",
       "    <tr>\n",
       "      <th>2</th>\n",
       "      <td>65.0</td>\n",
       "      <td>146</td>\n",
       "      <td>20</td>\n",
       "      <td>162000.00</td>\n",
       "      <td>1.3</td>\n",
       "      <td>129</td>\n",
       "    </tr>\n",
       "    <tr>\n",
       "      <th>3</th>\n",
       "      <td>50.0</td>\n",
       "      <td>111</td>\n",
       "      <td>20</td>\n",
       "      <td>210000.00</td>\n",
       "      <td>1.9</td>\n",
       "      <td>137</td>\n",
       "    </tr>\n",
       "    <tr>\n",
       "      <th>4</th>\n",
       "      <td>65.0</td>\n",
       "      <td>160</td>\n",
       "      <td>20</td>\n",
       "      <td>327000.00</td>\n",
       "      <td>2.7</td>\n",
       "      <td>116</td>\n",
       "    </tr>\n",
       "    <tr>\n",
       "      <th>...</th>\n",
       "      <td>...</td>\n",
       "      <td>...</td>\n",
       "      <td>...</td>\n",
       "      <td>...</td>\n",
       "      <td>...</td>\n",
       "      <td>...</td>\n",
       "    </tr>\n",
       "    <tr>\n",
       "      <th>294</th>\n",
       "      <td>62.0</td>\n",
       "      <td>61</td>\n",
       "      <td>38</td>\n",
       "      <td>155000.00</td>\n",
       "      <td>1.1</td>\n",
       "      <td>143</td>\n",
       "    </tr>\n",
       "    <tr>\n",
       "      <th>295</th>\n",
       "      <td>55.0</td>\n",
       "      <td>1820</td>\n",
       "      <td>38</td>\n",
       "      <td>270000.00</td>\n",
       "      <td>1.2</td>\n",
       "      <td>139</td>\n",
       "    </tr>\n",
       "    <tr>\n",
       "      <th>296</th>\n",
       "      <td>45.0</td>\n",
       "      <td>2060</td>\n",
       "      <td>60</td>\n",
       "      <td>742000.00</td>\n",
       "      <td>0.8</td>\n",
       "      <td>138</td>\n",
       "    </tr>\n",
       "    <tr>\n",
       "      <th>297</th>\n",
       "      <td>45.0</td>\n",
       "      <td>2413</td>\n",
       "      <td>38</td>\n",
       "      <td>140000.00</td>\n",
       "      <td>1.4</td>\n",
       "      <td>140</td>\n",
       "    </tr>\n",
       "    <tr>\n",
       "      <th>298</th>\n",
       "      <td>50.0</td>\n",
       "      <td>196</td>\n",
       "      <td>45</td>\n",
       "      <td>395000.00</td>\n",
       "      <td>1.6</td>\n",
       "      <td>136</td>\n",
       "    </tr>\n",
       "  </tbody>\n",
       "</table>\n",
       "<p>299 rows × 6 columns</p>\n",
       "</div>"
      ],
      "text/plain": [
       "      age  creatinine_phosphokinase  ejection_fraction  platelets  \\\n",
       "0    75.0                       582                 20  265000.00   \n",
       "1    55.0                      7861                 38  263358.03   \n",
       "2    65.0                       146                 20  162000.00   \n",
       "3    50.0                       111                 20  210000.00   \n",
       "4    65.0                       160                 20  327000.00   \n",
       "..    ...                       ...                ...        ...   \n",
       "294  62.0                        61                 38  155000.00   \n",
       "295  55.0                      1820                 38  270000.00   \n",
       "296  45.0                      2060                 60  742000.00   \n",
       "297  45.0                      2413                 38  140000.00   \n",
       "298  50.0                       196                 45  395000.00   \n",
       "\n",
       "     serum_creatinine  serum_sodium  \n",
       "0                 1.9           130  \n",
       "1                 1.1           136  \n",
       "2                 1.3           129  \n",
       "3                 1.9           137  \n",
       "4                 2.7           116  \n",
       "..                ...           ...  \n",
       "294               1.1           143  \n",
       "295               1.2           139  \n",
       "296               0.8           138  \n",
       "297               1.4           140  \n",
       "298               1.6           136  \n",
       "\n",
       "[299 rows x 6 columns]"
      ]
     },
     "execution_count": 4,
     "metadata": {},
     "output_type": "execute_result"
    }
   ],
   "source": [
    "df = df.drop(['anaemia', 'diabetes', 'high_blood_pressure', 'sex', 'smoking', 'DEATH_EVENT', 'time'], axis=1) \n",
    "#удаляем признаки у которых количество уникальных значений 2\n",
    "df"
   ]
  },
  {
   "cell_type": "markdown",
   "id": "bf749f33-cfb4-48a2-a026-1372cd36b836",
   "metadata": {},
   "source": [
    "## 3. Построить гистограммы признаков"
   ]
  },
  {
   "cell_type": "markdown",
   "id": "d4cf1c8a-b244-4d09-b3de-9e48f1d8413a",
   "metadata": {},
   "source": [
    "Просто вставляем и запускаем код, там кажется забыли один признак мы его добавим руками"
   ]
  },
  {
   "cell_type": "code",
   "execution_count": 5,
   "id": "c4f3cb1b4867fb22",
   "metadata": {
    "ExecuteTime": {
     "end_time": "2024-10-21T18:15:34.786622Z",
     "start_time": "2024-10-21T18:15:34.146411Z"
    }
   },
   "outputs": [
    {
     "data": {
      "image/png": "[encoded data removed]",
      "text/plain": [
       "<Figure size 640x480 with 6 Axes>"
      ]
     },
     "metadata": {},
     "output_type": "display_data"
    }
   ],
   "source": [
    "\n",
    "\n",
    "n_bins = 20\n",
    "\n",
    "fig, axs = plt.subplots(2,3)\n",
    "\n",
    "axs[0, 0].hist(df['age'].values, bins = n_bins) \n",
    "axs[0, 0].set_title('age')\n",
    "\n",
    "axs[0, 1].hist(df['creatinine_phosphokinase'].values, bins = n_bins) \n",
    "axs[0, 1].set_title('creatinine_phosphokinase')\n",
    "\n",
    "axs[0, 2].hist(df['ejection_fraction'].values, bins = n_bins) \n",
    "axs[0, 2].set_title('ejection_fraction')\n",
    "\n",
    "axs[1, 0].hist(df['platelets'].values, bins = n_bins) \n",
    "axs[1, 0].set_title('platelets')\n",
    "\n",
    "axs[1, 1].hist(df['serum_creatinine'].values, bins = n_bins) \n",
    "axs[1, 1].set_title('serum_creatinine')\n",
    "\n",
    "axs[1, 2].hist(df['serum_sodium'].values, bins = n_bins) \n",
    "axs[1, 2].set_title('serum_sodium')\n",
    "plt.tight_layout()\n",
    "plt.show()"
   ]
  },
  {
   "cell_type": "markdown",
   "id": "199484fe-a8ee-46f8-ad61-0af4a91a558a",
   "metadata": {},
   "source": [
    "## 4 На основании гистограмм определите диапазоны значений для каждого из признаков, а также возле какого значения лежит наибольшее количество наблюдений."
   ]
  },
  {
   "cell_type": "markdown",
   "id": "3c8d1651-1f4e-4b7e-b59d-ba65e2adc8f5",
   "metadata": {},
   "source": [
    "По возрасту(age) можно сделать следующие выводы.\n",
    "Диапазон значений лежит примерно от 45 до 90. Наибольшее число наблюдений лежит около 62."
   ]
  },
  {
   "cell_type": "markdown",
   "id": "8432279e-c4a9-4c22-b9d4-d7eb863257a6",
   "metadata": {},
   "source": [
    "по креатинкиназе(creatinine_phosphokinase) можно сделать следующие выводы\n",
    "Диапазон значений лежит примерно от 0 до 7500, около 0 находится наибольшее число наблюдений"
   ]
  },
  {
   "cell_type": "markdown",
   "id": "aa80bbeb-a11f-4612-8ef8-ac0b73377e7b",
   "metadata": {},
   "source": [
    "по фракцие выброса(ejection_fraction) можно сделать следующие выводы\n",
    "Диапазон значений лежит от 5 до 80. около 35 находится наибольшее число наблюдений"
   ]
  },
  {
   "cell_type": "markdown",
   "id": "51eaf338-5ca9-4811-ae62-e30e792b8a95",
   "metadata": {},
   "source": [
    "по тромбоцитам(platelets) можно сделать следующие выводы\n",
    "Диапазон значений лежит от 0 до 750000. Наибольшее число наблюдений около значения 250000."
   ]
  },
  {
   "cell_type": "markdown",
   "id": "457f1a5b-b71b-4f35-b60a-f448e8af1d57",
   "metadata": {},
   "source": [
    "по креатенину(serum_creatinine) можно сделать следующие выводы\n",
    "Диапазон значений лежит от 0.5 до 8. Наибольшее число значений наблюдается около значения 1"
   ]
  },
  {
   "cell_type": "markdown",
   "id": "2c3b5087-9717-4171-a537-316ebb7defe6",
   "metadata": {},
   "source": [
    "по натрию(serum_sodium) можно сделать следующие выводы\n",
    "Диапазон всех значений лежит от 110 до 150. Наибольшее число значений наблюдается около 138"
   ]
  },
  {
   "cell_type": "markdown",
   "id": "4aaac1d7-1cd6-43ce-889d-2223b3279f56",
   "metadata": {},
   "source": [
    "## 5 Так как библиотека Sklearn работает с NumPy массива, то преобразуйте датафрейм к двумерному массиву NumPy, где строка соответствует наблюдению, а столбец признаку"
   ]
  },
  {
   "cell_type": "markdown",
   "id": "968523ad-56d9-4bbb-a7ba-7adb795380f6",
   "metadata": {},
   "source": [
    "давайте сделаем это и посмотрим что получилось"
   ]
  },
  {
   "cell_type": "code",
   "execution_count": 6,
   "id": "0852b388-1dca-4997-b9a8-58b8c3776912",
   "metadata": {},
   "outputs": [
    {
     "data": {
      "text/plain": [
       "array([[7.5000000e+01, 5.8200000e+02, 2.0000000e+01, 2.6500000e+05,\n",
       "        1.9000000e+00, 1.3000000e+02],\n",
       "       [5.5000000e+01, 7.8610000e+03, 3.8000000e+01, 2.6335803e+05,\n",
       "        1.1000000e+00, 1.3600000e+02],\n",
       "       [6.5000000e+01, 1.4600000e+02, 2.0000000e+01, 1.6200000e+05,\n",
       "        1.3000000e+00, 1.2900000e+02],\n",
       "       ...,\n",
       "       [4.5000000e+01, 2.0600000e+03, 6.0000000e+01, 7.4200000e+05,\n",
       "        8.0000000e-01, 1.3800000e+02],\n",
       "       [4.5000000e+01, 2.4130000e+03, 3.8000000e+01, 1.4000000e+05,\n",
       "        1.4000000e+00, 1.4000000e+02],\n",
       "       [5.0000000e+01, 1.9600000e+02, 4.5000000e+01, 3.9500000e+05,\n",
       "        1.6000000e+00, 1.3600000e+02]])"
      ]
     },
     "execution_count": 6,
     "metadata": {},
     "output_type": "execute_result"
    }
   ],
   "source": [
    "data = df.to_numpy(dtype='float') #применяем код из текста лабораторной\n",
    "data"
   ]
  },
  {
   "cell_type": "markdown",
   "id": "37dca44d-aca3-4141-b98e-6949e161aa96",
   "metadata": {},
   "source": [
    "# В. Стандартизация данных\n"
   ]
  },
  {
   "cell_type": "markdown",
   "id": "6124ab76-5ec1-4a9d-bfc1-8149a6c7e316",
   "metadata": {},
   "source": [
    "## 1 Подключите модуль Sklearn. Настройте стандартизацию на основе первых 150 наблюдений используя StandardScaler"
   ]
  },
  {
   "cell_type": "markdown",
   "id": "f218505f-6ee9-400a-9328-2f5d852c04e4",
   "metadata": {},
   "source": [
    "Давайте просто сделаем это, посмотреть не получится"
   ]
  },
  {
   "cell_type": "code",
   "execution_count": 7,
   "id": "8d566fc3-6062-4e84-9fc2-29c23a0ddba1",
   "metadata": {},
   "outputs": [],
   "source": [
    "from sklearn import preprocessing\n",
    "scaler = preprocessing.StandardScaler().fit(data[:150,:]) #подготовка скейлера к использованию"
   ]
  },
  {
   "cell_type": "markdown",
   "id": "a07ecc70-46b5-4805-a236-6584b1bb9afb",
   "metadata": {},
   "source": [
    "## 2 Стандартизуйте все данные"
   ]
  },
  {
   "cell_type": "markdown",
   "id": "3ce4390e-c6d5-4b2c-b18e-2ce3efdb60a2",
   "metadata": {},
   "source": [
    "Делаем как сказано и смотрим что получилось"
   ]
  },
  {
   "cell_type": "code",
   "execution_count": 8,
   "id": "1aec9301-12b1-4dbd-bde7-caa49e678587",
   "metadata": {},
   "outputs": [
    {
     "data": {
      "text/plain": [
       "array([[ 9.68155915e-01, -2.11418177e-02, -1.37635007e+00,\n",
       "        -1.81590286e-02,  3.25269804e-01, -1.42156934e+00],\n",
       "       [-6.38297484e-01,  6.09698531e+00,  4.09019337e-03,\n",
       "        -3.52287805e-02, -3.60591670e-01, -9.98623091e-02],\n",
       "       [ 1.64929216e-01, -3.87607463e-01, -1.37635007e+00,\n",
       "        -1.08893648e+00, -1.89126302e-01, -1.64185385e+00],\n",
       "       ...,\n",
       "       [-1.44152418e+00,  1.22114310e+00,  1.69129496e+00,\n",
       "         4.94068412e+00, -6.17789723e-01,  3.40706702e-01],\n",
       "       [-1.44152418e+00,  1.51784579e+00,  4.09019337e-03,\n",
       "        -1.31764623e+00, -1.03393617e-01,  7.81275713e-01],\n",
       "       [-1.03991083e+00, -3.45581586e-01,  5.40928073e-01,\n",
       "         1.33330766e+00,  6.80717513e-02, -9.98623091e-02]])"
      ]
     },
     "execution_count": 8,
     "metadata": {},
     "output_type": "execute_result"
    }
   ],
   "source": [
    "data_scaled = scaler.transform(data) #непосредственное применение\n",
    "data_scaled"
   ]
  },
  {
   "cell_type": "markdown",
   "id": "84bdf4ee-2ce6-4bd6-9507-056a10d7be76",
   "metadata": {},
   "source": [
    "## 3 Постройте гистограммы стандартизированных данных.\n",
    "Строим по коду из задания и смотрим"
   ]
  },
  {
   "cell_type": "code",
   "execution_count": 9,
   "id": "5da1fcbc-139b-4115-82da-3f1aeed9da64",
   "metadata": {},
   "outputs": [
    {
     "data": {
      "image/png": "[encoded data removed]",
      "text/plain": [
       "<Figure size 640x480 with 6 Axes>"
      ]
     },
     "metadata": {},
     "output_type": "display_data"
    }
   ],
   "source": [
    "fig, axs = plt.subplots(2,3)\n",
    "\n",
    "\n",
    "axs[0, 0].hist(data_scaled[:,0], bins = n_bins) \n",
    "axs[0, 0].set_title('age')\n",
    "\n",
    "axs[0, 1].hist(data_scaled[:,1], bins = n_bins) \n",
    "axs[0, 1].set_title('creatinine_phosphokinase')\n",
    "\n",
    "axs[0, 2].hist(data_scaled[:,2], bins = n_bins) \n",
    "axs[0, 2].set_title('ejection_fraction')\n",
    "\n",
    "axs[1, 0].hist(data_scaled[:,3], bins = n_bins) \n",
    "axs[1, 0].set_title('platelets')\n",
    "\n",
    "axs[1, 1].hist(data_scaled[:,4], bins = n_bins) \n",
    "axs[1, 1].set_title('serum_creatinine')\n",
    " \n",
    "axs[1, 2].hist(data_scaled[:,5], bins = n_bins) \n",
    "axs[1, 2].set_title('serum_sodium')\n",
    "\n",
    "plt.tight_layout()\n",
    "plt.show()\n"
   ]
  },
  {
   "cell_type": "markdown",
   "id": "83c39d0d-19b2-4356-87d6-8e1fbf86cd3b",
   "metadata": {},
   "source": [
    "## 4 Сравните данные до и после стандартизации. Опишите, что изменилось и почему."
   ]
  },
  {
   "cell_type": "markdown",
   "id": "352067f6-dec6-48f7-be12-023a80404357",
   "metadata": {},
   "source": [
    "Видно, что у всех признаков значения с наибольшим количеством наблюдений переехали в 0, а также диапазон возможных значений сузился до 5 по модулю во всех случаях минимум, в некоторых симметричный диапазон +- у некоторых наоборот большой уклон влево или вправо однако, что заметно размер диапазона примерно 5 - 7.\n",
    "\n",
    "Связано это с тем, что была применена стандартизация к данным, то есть была применена формула x_new = (x_old - mean) / std, где mean - среднее по выборке(в данном случае по первым 150 значениям, а std - среднеквадратическое отклонение тоже по первым 150 значениям)"
   ]
  },
  {
   "cell_type": "code",
   "execution_count": 10,
   "id": "f7caf78d-daae-48cf-978d-fe57857373a1",
   "metadata": {},
   "outputs": [],
   "source": [
    "df_scaled = pd.DataFrame(data_scaled) #переделываем в df обратно\n",
    "df_scaled.columns = df.columns #переименовываем колонки как были у исходника"
   ]
  },
  {
   "cell_type": "markdown",
   "id": "7ad76d77-216a-4d15-930c-d03d1bbb1fad",
   "metadata": {},
   "source": [
    "## 5 Рассчитайте мат. ожидание и СКО до и после стандартизации. На основании этих значений выведите для каждого признака формулы по которым они стандартизировались."
   ]
  },
  {
   "cell_type": "markdown",
   "id": "3c388c1f-515b-4be8-95bc-ca091fdae02a",
   "metadata": {},
   "source": [
    "Ну как бы формулу я уже написал раньше, осталось подставить, однако, для расчетных формул нужно использовать первые 150 признаков"
   ]
  },
  {
   "cell_type": "code",
   "execution_count": 11,
   "id": "66dca7f7-446e-4b50-9f23-7b93ed0451d4",
   "metadata": {},
   "outputs": [
    {
     "data": {
      "text/html": [
       "<div>\n",
       "<style scoped>\n",
       "    .dataframe tbody tr th:only-of-type {\n",
       "        vertical-align: middle;\n",
       "    }\n",
       "\n",
       "    .dataframe tbody tr th {\n",
       "        vertical-align: top;\n",
       "    }\n",
       "\n",
       "    .dataframe thead th {\n",
       "        text-align: right;\n",
       "    }\n",
       "</style>\n",
       "<table border=\"1\" class=\"dataframe\">\n",
       "  <thead>\n",
       "    <tr style=\"text-align: right;\">\n",
       "      <th></th>\n",
       "      <th>age</th>\n",
       "      <th>creatinine_phosphokinase</th>\n",
       "      <th>ejection_fraction</th>\n",
       "      <th>platelets</th>\n",
       "      <th>serum_creatinine</th>\n",
       "      <th>serum_sodium</th>\n",
       "    </tr>\n",
       "  </thead>\n",
       "  <tbody>\n",
       "    <tr>\n",
       "      <th>count</th>\n",
       "      <td>299.000000</td>\n",
       "      <td>299.000000</td>\n",
       "      <td>299.000000</td>\n",
       "      <td>299.000000</td>\n",
       "      <td>299.000000</td>\n",
       "      <td>299.000000</td>\n",
       "    </tr>\n",
       "    <tr>\n",
       "      <th>mean</th>\n",
       "      <td>-0.169704</td>\n",
       "      <td>-0.021277</td>\n",
       "      <td>0.010502</td>\n",
       "      <td>-0.035229</td>\n",
       "      <td>-0.108641</td>\n",
       "      <td>0.037908</td>\n",
       "    </tr>\n",
       "    <tr>\n",
       "      <th>std</th>\n",
       "      <td>0.955423</td>\n",
       "      <td>0.815544</td>\n",
       "      <td>0.907627</td>\n",
       "      <td>1.016763</td>\n",
       "      <td>0.886913</td>\n",
       "      <td>0.972000</td>\n",
       "    </tr>\n",
       "    <tr>\n",
       "      <th>min</th>\n",
       "      <td>-1.843138</td>\n",
       "      <td>-0.490991</td>\n",
       "      <td>-1.836497</td>\n",
       "      <td>-2.512135</td>\n",
       "      <td>-0.874988</td>\n",
       "      <td>-5.166406</td>\n",
       "    </tr>\n",
       "    <tr>\n",
       "      <th>25%</th>\n",
       "      <td>-0.959588</td>\n",
       "      <td>-0.412403</td>\n",
       "      <td>-0.609439</td>\n",
       "      <td>-0.563944</td>\n",
       "      <td>-0.532057</td>\n",
       "      <td>-0.540431</td>\n",
       "    </tr>\n",
       "    <tr>\n",
       "      <th>50%</th>\n",
       "      <td>-0.236684</td>\n",
       "      <td>-0.300194</td>\n",
       "      <td>0.004090</td>\n",
       "      <td>-0.049347</td>\n",
       "      <td>-0.360592</td>\n",
       "      <td>0.120422</td>\n",
       "    </tr>\n",
       "    <tr>\n",
       "      <th>75%</th>\n",
       "      <td>0.566543</td>\n",
       "      <td>-0.021142</td>\n",
       "      <td>0.540928</td>\n",
       "      <td>0.382083</td>\n",
       "      <td>-0.103394</td>\n",
       "      <td>0.781276</td>\n",
       "    </tr>\n",
       "    <tr>\n",
       "      <th>max</th>\n",
       "      <td>2.574609</td>\n",
       "      <td>6.096985</td>\n",
       "      <td>3.225117</td>\n",
       "      <td>6.063441</td>\n",
       "      <td>6.755221</td>\n",
       "      <td>2.543552</td>\n",
       "    </tr>\n",
       "  </tbody>\n",
       "</table>\n",
       "</div>"
      ],
      "text/plain": [
       "              age  creatinine_phosphokinase  ejection_fraction   platelets  \\\n",
       "count  299.000000                299.000000         299.000000  299.000000   \n",
       "mean    -0.169704                 -0.021277           0.010502   -0.035229   \n",
       "std      0.955423                  0.815544           0.907627    1.016763   \n",
       "min     -1.843138                 -0.490991          -1.836497   -2.512135   \n",
       "25%     -0.959588                 -0.412403          -0.609439   -0.563944   \n",
       "50%     -0.236684                 -0.300194           0.004090   -0.049347   \n",
       "75%      0.566543                 -0.021142           0.540928    0.382083   \n",
       "max      2.574609                  6.096985           3.225117    6.063441   \n",
       "\n",
       "       serum_creatinine  serum_sodium  \n",
       "count        299.000000    299.000000  \n",
       "mean          -0.108641      0.037908  \n",
       "std            0.886913      0.972000  \n",
       "min           -0.874988     -5.166406  \n",
       "25%           -0.532057     -0.540431  \n",
       "50%           -0.360592      0.120422  \n",
       "75%           -0.103394      0.781276  \n",
       "max            6.755221      2.543552  "
      ]
     },
     "execution_count": 11,
     "metadata": {},
     "output_type": "execute_result"
    }
   ],
   "source": [
    "df_scaled.describe() #смотрим описание отскейленого датафрейма"
   ]
  },
  {
   "cell_type": "code",
   "execution_count": 12,
   "id": "206e68e8-6e41-4eaf-b0ab-f15c4d456455",
   "metadata": {},
   "outputs": [
    {
     "data": {
      "text/html": [
       "<div>\n",
       "<style scoped>\n",
       "    .dataframe tbody tr th:only-of-type {\n",
       "        vertical-align: middle;\n",
       "    }\n",
       "\n",
       "    .dataframe tbody tr th {\n",
       "        vertical-align: top;\n",
       "    }\n",
       "\n",
       "    .dataframe thead th {\n",
       "        text-align: right;\n",
       "    }\n",
       "</style>\n",
       "<table border=\"1\" class=\"dataframe\">\n",
       "  <thead>\n",
       "    <tr style=\"text-align: right;\">\n",
       "      <th></th>\n",
       "      <th>age</th>\n",
       "      <th>creatinine_phosphokinase</th>\n",
       "      <th>ejection_fraction</th>\n",
       "      <th>platelets</th>\n",
       "      <th>serum_creatinine</th>\n",
       "      <th>serum_sodium</th>\n",
       "    </tr>\n",
       "  </thead>\n",
       "  <tbody>\n",
       "    <tr>\n",
       "      <th>count</th>\n",
       "      <td>299.000000</td>\n",
       "      <td>299.000000</td>\n",
       "      <td>299.000000</td>\n",
       "      <td>299.000000</td>\n",
       "      <td>299.00000</td>\n",
       "      <td>299.000000</td>\n",
       "    </tr>\n",
       "    <tr>\n",
       "      <th>mean</th>\n",
       "      <td>60.833893</td>\n",
       "      <td>581.839465</td>\n",
       "      <td>38.083612</td>\n",
       "      <td>263358.029264</td>\n",
       "      <td>1.39388</td>\n",
       "      <td>136.625418</td>\n",
       "    </tr>\n",
       "    <tr>\n",
       "      <th>std</th>\n",
       "      <td>11.894809</td>\n",
       "      <td>970.287881</td>\n",
       "      <td>11.834841</td>\n",
       "      <td>97804.236869</td>\n",
       "      <td>1.03451</td>\n",
       "      <td>4.412477</td>\n",
       "    </tr>\n",
       "    <tr>\n",
       "      <th>min</th>\n",
       "      <td>40.000000</td>\n",
       "      <td>23.000000</td>\n",
       "      <td>14.000000</td>\n",
       "      <td>25100.000000</td>\n",
       "      <td>0.50000</td>\n",
       "      <td>113.000000</td>\n",
       "    </tr>\n",
       "    <tr>\n",
       "      <th>25%</th>\n",
       "      <td>51.000000</td>\n",
       "      <td>116.500000</td>\n",
       "      <td>30.000000</td>\n",
       "      <td>212500.000000</td>\n",
       "      <td>0.90000</td>\n",
       "      <td>134.000000</td>\n",
       "    </tr>\n",
       "    <tr>\n",
       "      <th>50%</th>\n",
       "      <td>60.000000</td>\n",
       "      <td>250.000000</td>\n",
       "      <td>38.000000</td>\n",
       "      <td>262000.000000</td>\n",
       "      <td>1.10000</td>\n",
       "      <td>137.000000</td>\n",
       "    </tr>\n",
       "    <tr>\n",
       "      <th>75%</th>\n",
       "      <td>70.000000</td>\n",
       "      <td>582.000000</td>\n",
       "      <td>45.000000</td>\n",
       "      <td>303500.000000</td>\n",
       "      <td>1.40000</td>\n",
       "      <td>140.000000</td>\n",
       "    </tr>\n",
       "    <tr>\n",
       "      <th>max</th>\n",
       "      <td>95.000000</td>\n",
       "      <td>7861.000000</td>\n",
       "      <td>80.000000</td>\n",
       "      <td>850000.000000</td>\n",
       "      <td>9.40000</td>\n",
       "      <td>148.000000</td>\n",
       "    </tr>\n",
       "  </tbody>\n",
       "</table>\n",
       "</div>"
      ],
      "text/plain": [
       "              age  creatinine_phosphokinase  ejection_fraction      platelets  \\\n",
       "count  299.000000                299.000000         299.000000     299.000000   \n",
       "mean    60.833893                581.839465          38.083612  263358.029264   \n",
       "std     11.894809                970.287881          11.834841   97804.236869   \n",
       "min     40.000000                 23.000000          14.000000   25100.000000   \n",
       "25%     51.000000                116.500000          30.000000  212500.000000   \n",
       "50%     60.000000                250.000000          38.000000  262000.000000   \n",
       "75%     70.000000                582.000000          45.000000  303500.000000   \n",
       "max     95.000000               7861.000000          80.000000  850000.000000   \n",
       "\n",
       "       serum_creatinine  serum_sodium  \n",
       "count         299.00000    299.000000  \n",
       "mean            1.39388    136.625418  \n",
       "std             1.03451      4.412477  \n",
       "min             0.50000    113.000000  \n",
       "25%             0.90000    134.000000  \n",
       "50%             1.10000    137.000000  \n",
       "75%             1.40000    140.000000  \n",
       "max             9.40000    148.000000  "
      ]
     },
     "execution_count": 12,
     "metadata": {},
     "output_type": "execute_result"
    }
   ],
   "source": [
    "df.describe() #смотрим описание исходника"
   ]
  },
  {
   "cell_type": "code",
   "execution_count": 13,
   "id": "941bdae1-a74e-4363-9ae4-15692db3adce",
   "metadata": {},
   "outputs": [
    {
     "data": {
      "text/html": [
       "<div>\n",
       "<style scoped>\n",
       "    .dataframe tbody tr th:only-of-type {\n",
       "        vertical-align: middle;\n",
       "    }\n",
       "\n",
       "    .dataframe tbody tr th {\n",
       "        vertical-align: top;\n",
       "    }\n",
       "\n",
       "    .dataframe thead th {\n",
       "        text-align: right;\n",
       "    }\n",
       "</style>\n",
       "<table border=\"1\" class=\"dataframe\">\n",
       "  <thead>\n",
       "    <tr style=\"text-align: right;\">\n",
       "      <th></th>\n",
       "      <th>0</th>\n",
       "      <th>1</th>\n",
       "      <th>2</th>\n",
       "      <th>3</th>\n",
       "      <th>4</th>\n",
       "      <th>5</th>\n",
       "    </tr>\n",
       "  </thead>\n",
       "  <tbody>\n",
       "    <tr>\n",
       "      <th>count</th>\n",
       "      <td>150.000000</td>\n",
       "      <td>150.000000</td>\n",
       "      <td>150.000000</td>\n",
       "      <td>150.000000</td>\n",
       "      <td>150.000000</td>\n",
       "      <td>150.000000</td>\n",
       "    </tr>\n",
       "    <tr>\n",
       "      <th>mean</th>\n",
       "      <td>62.946667</td>\n",
       "      <td>607.153333</td>\n",
       "      <td>37.946667</td>\n",
       "      <td>266746.749467</td>\n",
       "      <td>1.520600</td>\n",
       "      <td>136.453333</td>\n",
       "    </tr>\n",
       "    <tr>\n",
       "      <th>std</th>\n",
       "      <td>12.491493</td>\n",
       "      <td>1193.728926</td>\n",
       "      <td>13.083001</td>\n",
       "      <td>96514.041641</td>\n",
       "      <td>1.170324</td>\n",
       "      <td>4.554792</td>\n",
       "    </tr>\n",
       "    <tr>\n",
       "      <th>min</th>\n",
       "      <td>41.000000</td>\n",
       "      <td>23.000000</td>\n",
       "      <td>14.000000</td>\n",
       "      <td>47000.000000</td>\n",
       "      <td>0.600000</td>\n",
       "      <td>116.000000</td>\n",
       "    </tr>\n",
       "    <tr>\n",
       "      <th>25%</th>\n",
       "      <td>53.500000</td>\n",
       "      <td>111.250000</td>\n",
       "      <td>30.000000</td>\n",
       "      <td>216250.000000</td>\n",
       "      <td>1.000000</td>\n",
       "      <td>134.000000</td>\n",
       "    </tr>\n",
       "    <tr>\n",
       "      <th>50%</th>\n",
       "      <td>60.000000</td>\n",
       "      <td>247.000000</td>\n",
       "      <td>38.000000</td>\n",
       "      <td>263179.015000</td>\n",
       "      <td>1.180000</td>\n",
       "      <td>137.000000</td>\n",
       "    </tr>\n",
       "    <tr>\n",
       "      <th>75%</th>\n",
       "      <td>70.000000</td>\n",
       "      <td>582.000000</td>\n",
       "      <td>45.000000</td>\n",
       "      <td>304000.000000</td>\n",
       "      <td>1.700000</td>\n",
       "      <td>139.750000</td>\n",
       "    </tr>\n",
       "    <tr>\n",
       "      <th>max</th>\n",
       "      <td>95.000000</td>\n",
       "      <td>7861.000000</td>\n",
       "      <td>80.000000</td>\n",
       "      <td>850000.000000</td>\n",
       "      <td>9.400000</td>\n",
       "      <td>146.000000</td>\n",
       "    </tr>\n",
       "  </tbody>\n",
       "</table>\n",
       "</div>"
      ],
      "text/plain": [
       "                0            1           2              3           4  \\\n",
       "count  150.000000   150.000000  150.000000     150.000000  150.000000   \n",
       "mean    62.946667   607.153333   37.946667  266746.749467    1.520600   \n",
       "std     12.491493  1193.728926   13.083001   96514.041641    1.170324   \n",
       "min     41.000000    23.000000   14.000000   47000.000000    0.600000   \n",
       "25%     53.500000   111.250000   30.000000  216250.000000    1.000000   \n",
       "50%     60.000000   247.000000   38.000000  263179.015000    1.180000   \n",
       "75%     70.000000   582.000000   45.000000  304000.000000    1.700000   \n",
       "max     95.000000  7861.000000   80.000000  850000.000000    9.400000   \n",
       "\n",
       "                5  \n",
       "count  150.000000  \n",
       "mean   136.453333  \n",
       "std      4.554792  \n",
       "min    116.000000  \n",
       "25%    134.000000  \n",
       "50%    137.000000  \n",
       "75%    139.750000  \n",
       "max    146.000000  "
      ]
     },
     "execution_count": 13,
     "metadata": {},
     "output_type": "execute_result"
    }
   ],
   "source": [
    "pd.DataFrame(data[:150,:]).describe() #переводим в датафрейм и смотрим описание"
   ]
  },
  {
   "cell_type": "markdown",
   "id": "456b5b98-7523-4dc7-9c1c-1bcade940773",
   "metadata": {},
   "source": [
    "age_new $ = \\frac{age - 62.94}{12.49} $"
   ]
  },
  {
   "cell_type": "markdown",
   "id": "eb85dd18-4fdb-4fa9-baa8-27a8a36b6fb6",
   "metadata": {},
   "source": [
    "creatinine_phosphokinase_new $ = \\frac{\\\\phosphokinase - 607.15}{1193.73}$"
   ]
  },
  {
   "cell_type": "markdown",
   "id": "7d42a424-ca9b-4ae1-8ca7-8a051f117d6b",
   "metadata": {},
   "source": [
    "ejection_fraction_new $ = \\frac{ejection - 37.95}{13.08} $"
   ]
  },
  {
   "cell_type": "markdown",
   "id": "8bdd10da-7a7a-427a-8753-0b052effd303",
   "metadata": {},
   "source": [
    "platelets\t_new $ = \\frac{platelets - 266746.75}{96514.04} $"
   ]
  },
  {
   "cell_type": "markdown",
   "id": "3b5ef879-d042-4e98-afb2-0de3f3f0590c",
   "metadata": {},
   "source": [
    "serum_creatinine_new $ = \\frac{creatinine - 1.52}{1.17} $"
   ]
  },
  {
   "cell_type": "markdown",
   "id": "cea0128f-4835-4aba-ace5-635a68617fda",
   "metadata": {},
   "source": [
    "serum_sodium_new $ = \\frac{sodium - 136.45}{4.55} $"
   ]
  },
  {
   "cell_type": "markdown",
   "id": "295c7492-5279-460a-9a77-73fab1e93c65",
   "metadata": {},
   "source": [
    "## 6 Сравните значений из формул с полями mean_ и var_ объекта scaler"
   ]
  },
  {
   "cell_type": "markdown",
   "id": "9992da543401a66b",
   "metadata": {},
   "source": [
    "просто посмотрим какие там значение и сравним"
   ]
  },
  {
   "cell_type": "code",
   "execution_count": 14,
   "id": "85a498f3-5013-44d5-b36b-17a90a05748f",
   "metadata": {},
   "outputs": [
    {
     "data": {
      "text/plain": [
       "array([6.29466667e+01, 6.07153333e+02, 3.79466667e+01, 2.66746749e+05,\n",
       "       1.52060000e+00, 1.36453333e+02])"
      ]
     },
     "execution_count": 14,
     "metadata": {},
     "output_type": "execute_result"
    }
   ],
   "source": [
    "scaler.mean_ #матожидание"
   ]
  },
  {
   "cell_type": "code",
   "execution_count": 15,
   "id": "7eac085b-91cb-4fb3-9a9b-0e98206faf44",
   "metadata": {},
   "outputs": [
    {
     "data": {
      "text/plain": [
       "array([1.54997156e+02, 1.41548882e+06, 1.70023822e+02, 9.25286050e+09,\n",
       "       1.36052697e+00, 2.06078222e+01])"
      ]
     },
     "execution_count": 15,
     "metadata": {},
     "output_type": "execute_result"
    }
   ],
   "source": [
    "scaler.var_ #дисперсия"
   ]
  },
  {
   "cell_type": "markdown",
   "id": "47d0f743-6bde-48de-b72f-b7d6dc511896",
   "metadata": {},
   "source": [
    "Значения совпадают, значит формулы верные"
   ]
  },
  {
   "cell_type": "markdown",
   "id": "dcf3fba8-0e4c-4910-bb9a-e9bd01b504fb",
   "metadata": {},
   "source": [
    "## 7 Проведите настройку стандартизации на всех данных и сравните с результатами настройки на основании 150 наблюдений"
   ]
  },
  {
   "cell_type": "code",
   "execution_count": 16,
   "id": "c650fd4b-c00d-473a-9db8-112fea16e893",
   "metadata": {},
   "outputs": [],
   "source": [
    "scaler = preprocessing.StandardScaler()#создаем новый скейлер\n",
    "data_scaled = scaler.fit_transform(data) #тренериуем и сразу трансформируем наши данные"
   ]
  },
  {
   "cell_type": "code",
   "execution_count": 17,
   "id": "a9d04684-34a7-40da-a5a3-786b33ccaae5",
   "metadata": {},
   "outputs": [
    {
     "data": {
      "text/html": [
       "<div>\n",
       "<style scoped>\n",
       "    .dataframe tbody tr th:only-of-type {\n",
       "        vertical-align: middle;\n",
       "    }\n",
       "\n",
       "    .dataframe tbody tr th {\n",
       "        vertical-align: top;\n",
       "    }\n",
       "\n",
       "    .dataframe thead th {\n",
       "        text-align: right;\n",
       "    }\n",
       "</style>\n",
       "<table border=\"1\" class=\"dataframe\">\n",
       "  <thead>\n",
       "    <tr style=\"text-align: right;\">\n",
       "      <th></th>\n",
       "      <th>0</th>\n",
       "      <th>1</th>\n",
       "      <th>2</th>\n",
       "      <th>3</th>\n",
       "      <th>4</th>\n",
       "      <th>5</th>\n",
       "    </tr>\n",
       "  </thead>\n",
       "  <tbody>\n",
       "    <tr>\n",
       "      <th>count</th>\n",
       "      <td>2.990000e+02</td>\n",
       "      <td>299.000000</td>\n",
       "      <td>2.990000e+02</td>\n",
       "      <td>2.990000e+02</td>\n",
       "      <td>2.990000e+02</td>\n",
       "      <td>2.990000e+02</td>\n",
       "    </tr>\n",
       "    <tr>\n",
       "      <th>mean</th>\n",
       "      <td>5.703353e-16</td>\n",
       "      <td>0.000000</td>\n",
       "      <td>-3.267546e-17</td>\n",
       "      <td>7.723291e-17</td>\n",
       "      <td>1.425838e-16</td>\n",
       "      <td>-8.673849e-16</td>\n",
       "    </tr>\n",
       "    <tr>\n",
       "      <th>std</th>\n",
       "      <td>1.001676e+00</td>\n",
       "      <td>1.001676</td>\n",
       "      <td>1.001676e+00</td>\n",
       "      <td>1.001676e+00</td>\n",
       "      <td>1.001676e+00</td>\n",
       "      <td>1.001676e+00</td>\n",
       "    </tr>\n",
       "    <tr>\n",
       "      <th>min</th>\n",
       "      <td>-1.754448e+00</td>\n",
       "      <td>-0.576918</td>\n",
       "      <td>-2.038387e+00</td>\n",
       "      <td>-2.440155e+00</td>\n",
       "      <td>-8.655094e-01</td>\n",
       "      <td>-5.363206e+00</td>\n",
       "    </tr>\n",
       "    <tr>\n",
       "      <th>25%</th>\n",
       "      <td>-8.281242e-01</td>\n",
       "      <td>-0.480393</td>\n",
       "      <td>-6.841802e-01</td>\n",
       "      <td>-5.208700e-01</td>\n",
       "      <td>-4.782047e-01</td>\n",
       "      <td>-5.959961e-01</td>\n",
       "    </tr>\n",
       "    <tr>\n",
       "      <th>50%</th>\n",
       "      <td>-7.022315e-02</td>\n",
       "      <td>-0.342574</td>\n",
       "      <td>-7.076750e-03</td>\n",
       "      <td>-1.390846e-02</td>\n",
       "      <td>-2.845524e-01</td>\n",
       "      <td>8.503384e-02</td>\n",
       "    </tr>\n",
       "    <tr>\n",
       "      <th>75%</th>\n",
       "      <td>7.718891e-01</td>\n",
       "      <td>0.000166</td>\n",
       "      <td>5.853888e-01</td>\n",
       "      <td>4.111199e-01</td>\n",
       "      <td>5.926150e-03</td>\n",
       "      <td>7.660638e-01</td>\n",
       "    </tr>\n",
       "    <tr>\n",
       "      <th>max</th>\n",
       "      <td>2.877170e+00</td>\n",
       "      <td>7.514640</td>\n",
       "      <td>3.547716e+00</td>\n",
       "      <td>6.008180e+00</td>\n",
       "      <td>7.752020e+00</td>\n",
       "      <td>2.582144e+00</td>\n",
       "    </tr>\n",
       "  </tbody>\n",
       "</table>\n",
       "</div>"
      ],
      "text/plain": [
       "                  0           1             2             3             4  \\\n",
       "count  2.990000e+02  299.000000  2.990000e+02  2.990000e+02  2.990000e+02   \n",
       "mean   5.703353e-16    0.000000 -3.267546e-17  7.723291e-17  1.425838e-16   \n",
       "std    1.001676e+00    1.001676  1.001676e+00  1.001676e+00  1.001676e+00   \n",
       "min   -1.754448e+00   -0.576918 -2.038387e+00 -2.440155e+00 -8.655094e-01   \n",
       "25%   -8.281242e-01   -0.480393 -6.841802e-01 -5.208700e-01 -4.782047e-01   \n",
       "50%   -7.022315e-02   -0.342574 -7.076750e-03 -1.390846e-02 -2.845524e-01   \n",
       "75%    7.718891e-01    0.000166  5.853888e-01  4.111199e-01  5.926150e-03   \n",
       "max    2.877170e+00    7.514640  3.547716e+00  6.008180e+00  7.752020e+00   \n",
       "\n",
       "                  5  \n",
       "count  2.990000e+02  \n",
       "mean  -8.673849e-16  \n",
       "std    1.001676e+00  \n",
       "min   -5.363206e+00  \n",
       "25%   -5.959961e-01  \n",
       "50%    8.503384e-02  \n",
       "75%    7.660638e-01  \n",
       "max    2.582144e+00  "
      ]
     },
     "execution_count": 17,
     "metadata": {},
     "output_type": "execute_result"
    }
   ],
   "source": [
    "pd.DataFrame(data_scaled).describe() #получаем описание для трансорфмированных данных по всем наблюдением"
   ]
  },
  {
   "cell_type": "code",
   "execution_count": 18,
   "id": "fa8d1099-2242-47ea-b243-586bc6d04532",
   "metadata": {
    "ExecuteTime": {
     "end_time": "2024-10-22T16:11:54.580870Z",
     "start_time": "2024-10-22T16:11:54.253459Z"
    }
   },
   "outputs": [
    {
     "data": {
      "text/html": [
       "<div>\n",
       "<style scoped>\n",
       "    .dataframe tbody tr th:only-of-type {\n",
       "        vertical-align: middle;\n",
       "    }\n",
       "\n",
       "    .dataframe tbody tr th {\n",
       "        vertical-align: top;\n",
       "    }\n",
       "\n",
       "    .dataframe thead th {\n",
       "        text-align: right;\n",
       "    }\n",
       "</style>\n",
       "<table border=\"1\" class=\"dataframe\">\n",
       "  <thead>\n",
       "    <tr style=\"text-align: right;\">\n",
       "      <th></th>\n",
       "      <th>age</th>\n",
       "      <th>creatinine_phosphokinase</th>\n",
       "      <th>ejection_fraction</th>\n",
       "      <th>platelets</th>\n",
       "      <th>serum_creatinine</th>\n",
       "      <th>serum_sodium</th>\n",
       "    </tr>\n",
       "  </thead>\n",
       "  <tbody>\n",
       "    <tr>\n",
       "      <th>count</th>\n",
       "      <td>299.000000</td>\n",
       "      <td>299.000000</td>\n",
       "      <td>299.000000</td>\n",
       "      <td>299.000000</td>\n",
       "      <td>299.000000</td>\n",
       "      <td>299.000000</td>\n",
       "    </tr>\n",
       "    <tr>\n",
       "      <th>mean</th>\n",
       "      <td>-0.169704</td>\n",
       "      <td>-0.021277</td>\n",
       "      <td>0.010502</td>\n",
       "      <td>-0.035229</td>\n",
       "      <td>-0.108641</td>\n",
       "      <td>0.037908</td>\n",
       "    </tr>\n",
       "    <tr>\n",
       "      <th>std</th>\n",
       "      <td>0.955423</td>\n",
       "      <td>0.815544</td>\n",
       "      <td>0.907627</td>\n",
       "      <td>1.016763</td>\n",
       "      <td>0.886913</td>\n",
       "      <td>0.972000</td>\n",
       "    </tr>\n",
       "    <tr>\n",
       "      <th>min</th>\n",
       "      <td>-1.843138</td>\n",
       "      <td>-0.490991</td>\n",
       "      <td>-1.836497</td>\n",
       "      <td>-2.512135</td>\n",
       "      <td>-0.874988</td>\n",
       "      <td>-5.166406</td>\n",
       "    </tr>\n",
       "    <tr>\n",
       "      <th>25%</th>\n",
       "      <td>-0.959588</td>\n",
       "      <td>-0.412403</td>\n",
       "      <td>-0.609439</td>\n",
       "      <td>-0.563944</td>\n",
       "      <td>-0.532057</td>\n",
       "      <td>-0.540431</td>\n",
       "    </tr>\n",
       "    <tr>\n",
       "      <th>50%</th>\n",
       "      <td>-0.236684</td>\n",
       "      <td>-0.300194</td>\n",
       "      <td>0.004090</td>\n",
       "      <td>-0.049347</td>\n",
       "      <td>-0.360592</td>\n",
       "      <td>0.120422</td>\n",
       "    </tr>\n",
       "    <tr>\n",
       "      <th>75%</th>\n",
       "      <td>0.566543</td>\n",
       "      <td>-0.021142</td>\n",
       "      <td>0.540928</td>\n",
       "      <td>0.382083</td>\n",
       "      <td>-0.103394</td>\n",
       "      <td>0.781276</td>\n",
       "    </tr>\n",
       "    <tr>\n",
       "      <th>max</th>\n",
       "      <td>2.574609</td>\n",
       "      <td>6.096985</td>\n",
       "      <td>3.225117</td>\n",
       "      <td>6.063441</td>\n",
       "      <td>6.755221</td>\n",
       "      <td>2.543552</td>\n",
       "    </tr>\n",
       "  </tbody>\n",
       "</table>\n",
       "</div>"
      ],
      "text/plain": [
       "              age  creatinine_phosphokinase  ejection_fraction   platelets  \\\n",
       "count  299.000000                299.000000         299.000000  299.000000   \n",
       "mean    -0.169704                 -0.021277           0.010502   -0.035229   \n",
       "std      0.955423                  0.815544           0.907627    1.016763   \n",
       "min     -1.843138                 -0.490991          -1.836497   -2.512135   \n",
       "25%     -0.959588                 -0.412403          -0.609439   -0.563944   \n",
       "50%     -0.236684                 -0.300194           0.004090   -0.049347   \n",
       "75%      0.566543                 -0.021142           0.540928    0.382083   \n",
       "max      2.574609                  6.096985           3.225117    6.063441   \n",
       "\n",
       "       serum_creatinine  serum_sodium  \n",
       "count        299.000000    299.000000  \n",
       "mean          -0.108641      0.037908  \n",
       "std            0.886913      0.972000  \n",
       "min           -0.874988     -5.166406  \n",
       "25%           -0.532057     -0.540431  \n",
       "50%           -0.360592      0.120422  \n",
       "75%           -0.103394      0.781276  \n",
       "max            6.755221      2.543552  "
      ]
     },
     "execution_count": 18,
     "metadata": {},
     "output_type": "execute_result"
    }
   ],
   "source": [
    "df_scaled.describe() #получаем описание для трансорфмированных данных по первым 150 наблюдениям"
   ]
  },
  {
   "cell_type": "markdown",
   "id": "aee18e31-e60c-4cf8-a0c3-83f45dde65bd",
   "metadata": {},
   "source": [
    "Благодаря тому, что в расчетных формулах участвовали все данные, математическое ожидание у первого датафрейма ближе по модулю к 0, чем у второго.\n",
    "\n",
    "\n",
    "Та же тендеция для среднеквадратичного отклонения разница между среднеквадратичным отклонением и единицей очень близка по модулю к 0"
   ]
  },
  {
   "cell_type": "markdown",
   "id": "e83b2a56-b86e-4f71-b586-e039ce3d4e91",
   "metadata": {},
   "source": [
    "# C Приведение к диапазону"
   ]
  },
  {
   "cell_type": "markdown",
   "id": "5605dafc-8d3d-4a37-847e-4472ca5bceb2",
   "metadata": {},
   "source": [
    "## 1 Приведите данные к диапазону [0,1], используя MinMaxScaler"
   ]
  },
  {
   "cell_type": "markdown",
   "id": "5c5320f8-eb09-442e-ad83-9ce46d2565e5",
   "metadata": {},
   "source": [
    "используем приложенный код к лабе"
   ]
  },
  {
   "cell_type": "code",
   "execution_count": 19,
   "id": "1ca17d57-bdf7-4720-87f9-c0c734eb8c77",
   "metadata": {},
   "outputs": [
    {
     "data": {
      "text/plain": [
       "array([[0.63636364, 0.07131921, 0.09090909, 0.29082313, 0.15730337,\n",
       "        0.48571429],\n",
       "       [0.27272727, 1.        , 0.36363636, 0.28883262, 0.06741573,\n",
       "        0.65714286],\n",
       "       [0.45454545, 0.01569278, 0.09090909, 0.16595951, 0.08988764,\n",
       "        0.45714286],\n",
       "       ...,\n",
       "       [0.09090909, 0.25988773, 0.6969697 , 0.86907504, 0.03370787,\n",
       "        0.71428571],\n",
       "       [0.09090909, 0.30492473, 0.36363636, 0.13928961, 0.1011236 ,\n",
       "        0.77142857],\n",
       "       [0.18181818, 0.02207196, 0.46969697, 0.44841799, 0.12359551,\n",
       "        0.65714286]])"
      ]
     },
     "execution_count": 19,
     "metadata": {},
     "output_type": "execute_result"
    }
   ],
   "source": [
    "min_max_scaler = preprocessing.MinMaxScaler().fit(data) #обучаем трансформатор\n",
    "data_min_max_scaled = min_max_scaler.transform(data) #преобразуем данные\n",
    "data_min_max_scaled #вывод"
   ]
  },
  {
   "cell_type": "markdown",
   "id": "a396d7cb-7492-409f-8f7d-697d1d49843c",
   "metadata": {},
   "source": [
    "## 2 Постройте гистограммы для признаков и сравните с исходными данными"
   ]
  },
  {
   "cell_type": "code",
   "execution_count": 20,
   "id": "d3196f75-6e78-46f0-ac7b-d23842e8d0df",
   "metadata": {},
   "outputs": [
    {
     "data": {
      "image/png": "[encoded data removed]",
      "text/plain": [
       "<Figure size 640x480 with 6 Axes>"
      ]
     },
     "metadata": {},
     "output_type": "display_data"
    }
   ],
   "source": [
    "def f(data_scaled): #поместим построение графиков в функцию, а то копипастить это плохо\n",
    "    fig, axs = plt.subplots(2,3)\n",
    "    \n",
    "    \n",
    "    axs[0, 0].hist(data_scaled[:,0], bins = n_bins) \n",
    "    axs[0, 0].set_title('age')\n",
    "    \n",
    "    axs[0, 1].hist(data_scaled[:,1], bins = n_bins) \n",
    "    axs[0, 1].set_title('creatinine_phosphokinase')\n",
    "    \n",
    "    axs[0, 2].hist(data_scaled[:,2], bins = n_bins) \n",
    "    axs[0, 2].set_title('ejection_fraction')\n",
    "    \n",
    "    axs[1, 0].hist(data_scaled[:,3], bins = n_bins) \n",
    "    axs[1, 0].set_title('platelets')\n",
    "    \n",
    "    axs[1, 1].hist(data_scaled[:,4], bins = n_bins) \n",
    "    axs[1, 1].set_title('serum_creatinine')\n",
    "    \n",
    "    axs[1, 2].hist(data_scaled[:,5], bins = n_bins) \n",
    "    axs[1, 2].set_title('serum_sodium')\n",
    "    \n",
    "    plt.tight_layout()\n",
    "    plt.show()\n",
    "f(data_min_max_scaled) #используем старый способ построить графики но создадим для этого функцию"
   ]
  },
  {
   "cell_type": "markdown",
   "id": "abf772e3-5f23-42f8-8ec7-092edec93046",
   "metadata": {},
   "source": [
    "Данные переехали в диапазон [0, 1]"
   ]
  },
  {
   "cell_type": "markdown",
   "id": "d142d64e-f751-4dfd-aa14-28aea53a0d0a",
   "metadata": {},
   "source": [
    "## 3 Через параметры MinMaxScaler определите минимальное и максимальное значение в данных для каждого признака"
   ]
  },
  {
   "cell_type": "code",
   "execution_count": 21,
   "id": "a59e5f91-5721-47e2-bcd3-a3cfa0a852c9",
   "metadata": {},
   "outputs": [
    {
     "data": {
      "text/plain": [
       "array([4.00e+01, 2.30e+01, 1.40e+01, 2.51e+04, 5.00e-01, 1.13e+02])"
      ]
     },
     "execution_count": 21,
     "metadata": {},
     "output_type": "execute_result"
    }
   ],
   "source": [
    "min_max_scaler.data_min_ #смотрим минимальное по каждому массиву"
   ]
  },
  {
   "cell_type": "code",
   "execution_count": 22,
   "id": "c9e5c8d9-4e10-47bc-9a0a-a2fa110d8286",
   "metadata": {},
   "outputs": [
    {
     "data": {
      "text/plain": [
       "array([9.500e+01, 7.861e+03, 8.000e+01, 8.500e+05, 9.400e+00, 1.480e+02])"
      ]
     },
     "execution_count": 22,
     "metadata": {},
     "output_type": "execute_result"
    }
   ],
   "source": [
    "min_max_scaler.data_max_ #смотрим максимальное по каждому массиву"
   ]
  },
  {
   "cell_type": "markdown",
   "id": "8d72a6a0-2daf-4386-8b7e-f42f098b8e06",
   "metadata": {},
   "source": [
    "## 4 Напишите функцию, которая приводит все данные к диапазону [-5 10]. Примените её и постройте гистограммы полученных данных."
   ]
  },
  {
   "cell_type": "markdown",
   "id": "bb4ff5b0-0b36-48f9-a6b4-3e452301fcb9",
   "metadata": {},
   "source": [
    "Функция для приведения массива значений к отрезку от a до b выглядит следующим образом\n",
    "\n",
    "\n",
    "\n",
    "$ data = \\frac{data - min(data)}{max(data) - min(data)} \\dot (b - a) + a$ "
   ]
  },
  {
   "cell_type": "code",
   "execution_count": 23,
   "id": "3852c986-2146-4e93-9b7b-55b9608f1539",
   "metadata": {},
   "outputs": [],
   "source": [
    "def my_min_max(arr, a, b):\n",
    "    arr = np.array(arr)\n",
    "    arr = np.transpose(arr)\n",
    "    for x in range(len(arr)):#итерируемся по n-мерному массиву\n",
    "        data_max = max(arr[x])#максимум\n",
    "        data_min = min(arr[x])#минимум\n",
    "        \n",
    "        arr[x] = (arr[x] - np.full(len(arr[x]), data_min))/(data_max - data_min) * (b - a) + np.full(len(arr[x]), a) #формула для приведения к диапазону\n",
    "    return np.transpose(arr)\n"
   ]
  },
  {
   "cell_type": "code",
   "execution_count": 24,
   "id": "9a44270a-f6ce-4892-83e4-fc8991701d4e",
   "metadata": {},
   "outputs": [
    {
     "data": {
      "image/png": "[encoded data removed]",
      "text/plain": [
       "<Figure size 640x480 with 6 Axes>"
      ]
     },
     "metadata": {},
     "output_type": "display_data"
    }
   ],
   "source": [
    "f(my_scaled_data:=my_min_max(data, -5, 10)) #используем написанную мной функцию с заданными параметрами"
   ]
  },
  {
   "cell_type": "markdown",
   "id": "a21da7b2-6c26-4d8d-bc9b-6bd22629cb57",
   "metadata": {},
   "source": [
    "как видно, диапазон массива стал [-5, 10] значит формулу придумал я верную и все хорошо работает, убедимся еще раз используя функцию min"
   ]
  },
  {
   "cell_type": "code",
   "execution_count": 25,
   "id": "a73c4f5b-607e-4661-bedd-2bfe66c78403",
   "metadata": {},
   "outputs": [
    {
     "data": {
      "text/plain": [
       "0   -5.0\n",
       "1   -5.0\n",
       "2   -5.0\n",
       "3   -5.0\n",
       "4   -5.0\n",
       "5   -5.0\n",
       "dtype: float64"
      ]
     },
     "execution_count": 25,
     "metadata": {},
     "output_type": "execute_result"
    }
   ],
   "source": [
    "pd.DataFrame(my_scaled_data).min()#смотрим минимум"
   ]
  },
  {
   "cell_type": "code",
   "execution_count": 26,
   "id": "5e3f7de1-565d-4932-8bf3-bcae296ca5e7",
   "metadata": {},
   "outputs": [
    {
     "data": {
      "text/plain": [
       "0    10.0\n",
       "1    10.0\n",
       "2    10.0\n",
       "3    10.0\n",
       "4    10.0\n",
       "5    10.0\n",
       "dtype: float64"
      ]
     },
     "execution_count": 26,
     "metadata": {},
     "output_type": "execute_result"
    }
   ],
   "source": [
    "pd.DataFrame(my_scaled_data).max()#смотрим максимум"
   ]
  },
  {
   "cell_type": "markdown",
   "id": "c4d1dcf6-d71d-437e-9f87-2288caff7644",
   "metadata": {},
   "source": [
    "визуально само распределение не поменялось, а минимум и максимум изменились, значит точно все верно"
   ]
  },
  {
   "cell_type": "markdown",
   "id": "91be372d-b3da-4bf0-bca0-721498abd749",
   "metadata": {},
   "source": [
    "# D. Нелинейные преобразования"
   ]
  },
  {
   "cell_type": "markdown",
   "id": "06e82fca-b1fd-4512-9be8-62441b52ef99",
   "metadata": {},
   "source": [
    "## 1 Приведите данные к равномерному распределению используя QuantileTransformer"
   ]
  },
  {
   "cell_type": "markdown",
   "id": "c5ea4011-9112-4ad3-ad13-fee4ddabe621",
   "metadata": {},
   "source": [
    "поступим так как сказано в тексте лабораторной"
   ]
  },
  {
   "cell_type": "code",
   "execution_count": 27,
   "id": "c822bd0f-a07a-457a-b093-952c8052fff0",
   "metadata": {},
   "outputs": [],
   "source": [
    "quantile_transformer = preprocessing.QuantileTransformer(n_quantiles = 100, random_state=0).fit(data) #объяявляем и тренериуем скейлер\n",
    "data_quantile_scaled = quantile_transformer.transform(data) #трансформируем данные"
   ]
  },
  {
   "cell_type": "markdown",
   "id": "6efaae2f-ca22-4037-b0a3-d30cb74ae6ff",
   "metadata": {},
   "source": [
    "## 2 Постройте гистограммы и сравните с исходными данными"
   ]
  },
  {
   "cell_type": "code",
   "execution_count": 28,
   "id": "e30d18ec-6fd0-4896-baf2-a05cec294dfd",
   "metadata": {},
   "outputs": [
    {
     "data": {
      "image/png": "[encoded data removed]",
      "text/plain": [
       "<Figure size 640x480 with 6 Axes>"
      ]
     },
     "metadata": {},
     "output_type": "display_data"
    }
   ],
   "source": [
    "f(data_quantile_scaled)#используем функцию для построения графиков"
   ]
  },
  {
   "cell_type": "markdown",
   "id": "304a180e-67ea-4193-b376-697c66aa3319",
   "metadata": {},
   "source": [
    "Видно, что попытка сделать распределение равномерным почти удалась, но не во всех случаях"
   ]
  },
  {
   "cell_type": "markdown",
   "id": "8a6f2bbe-9f17-4bc1-88fd-15cb4f2c63bb",
   "metadata": {},
   "source": [
    "## 3 Определите, как и на что влияет значение параметра n_quantiles"
   ]
  },
  {
   "cell_type": "markdown",
   "id": "cd066571-f921-4784-8a8b-2df22c80fe58",
   "metadata": {},
   "source": [
    "Чем больше параметр n_quantiles тем больше распределение будет походить на нормальное, по факту это количество квантилей и оно не может быть больше размера массива, потому что по факту у нас дискретное распределение, чем меньше тем больше похоже на исходное. \n",
    "\n",
    "Минимум 2 квантиля нужно для построения распределения, тогда мы получим min_max_scaler, то есть min_max scaler частный случай QuantileTransformer"
   ]
  },
  {
   "cell_type": "markdown",
   "id": "225843ca-389e-499a-9925-bc1cef5f0cf8",
   "metadata": {},
   "source": [
    "## 4 Приведите данные к нормальному распределению передав в QuantileTransformer параметр output_distribution=‘normal’"
   ]
  },
  {
   "cell_type": "markdown",
   "id": "9fa86c68-293f-4286-b690-d08b7c0681c7",
   "metadata": {},
   "source": [
    "почти первое задание но + 1 параметр"
   ]
  },
  {
   "cell_type": "code",
   "execution_count": 29,
   "id": "30ff923c-b5e6-4d32-a409-832c3f1756a2",
   "metadata": {},
   "outputs": [],
   "source": [
    "quantile_transformer = preprocessing.QuantileTransformer(n_quantiles = 100, random_state=0, output_distribution='normal').fit(data) \n",
    "#объяявляем и тренериуем скейлер\n",
    "data_quantile_scaled = quantile_transformer.transform(data) #трансформируем данные"
   ]
  },
  {
   "cell_type": "markdown",
   "id": "5c13a86e-2945-45bf-86d2-163e8a663fbc",
   "metadata": {},
   "source": [
    "## 5 Постройте гистограммы и сравните с исходными данными"
   ]
  },
  {
   "cell_type": "code",
   "execution_count": 30,
   "id": "f02dc9bc-19c3-41ba-b666-fa76d6313f28",
   "metadata": {},
   "outputs": [
    {
     "data": {
      "image/png": "[encoded data removed]",
      "text/plain": [
       "<Figure size 640x480 with 6 Axes>"
      ]
     },
     "metadata": {},
     "output_type": "display_data"
    }
   ],
   "source": [
    "f(data_quantile_scaled)#используем функцию для построения графиков"
   ]
  },
  {
   "cell_type": "markdown",
   "id": "4c011803-94c5-4df3-87aa-4fcf50065435",
   "metadata": {},
   "source": [
    "Очень неплохо получилось, сильно похоже на нормальное распределение"
   ]
  },
  {
   "cell_type": "markdown",
   "id": "16e8b61f-12e6-459f-82d9-b8fd86d55614",
   "metadata": {},
   "source": [
    "## 6 Самостоятельно приведите данные к нормальному распределению используя PowerTransformer. Приведите скрипт операции и гистограммы полученных данных."
   ]
  },
  {
   "cell_type": "code",
   "execution_count": 31,
   "id": "db17bf3d-73f4-47b3-85d1-20fb0df50bc2",
   "metadata": {},
   "outputs": [
    {
     "data": {
      "image/png": "[encoded data removed]",
      "text/plain": [
       "<Figure size 640x480 with 6 Axes>"
      ]
     },
     "metadata": {},
     "output_type": "display_data"
    }
   ],
   "source": [
    "power_trans_data = preprocessing.PowerTransformer().fit_transform(data) #тренеруем трансформер и сразу трансформируем данные\n",
    "f(power_trans_data ) #используем функцию для построения графика"
   ]
  },
  {
   "cell_type": "markdown",
   "id": "7f5984aa-1fd8-482c-88db-085410c2dd3e",
   "metadata": {},
   "source": [
    "ну получилось тоже неплохо, но тут сильно преобладают некоторый бины(возможно так диапазон неудачно разбился), в отличие от предыдущего, визуально предыдущий будет лучше"
   ]
  },
  {
   "cell_type": "markdown",
   "id": "d4eb44f8-a301-472c-a04e-b9511c457b43",
   "metadata": {},
   "source": [
    "# E. Дискретизация признаков"
   ]
  },
  {
   "cell_type": "markdown",
   "id": "ea53e5f1-2547-4a18-ad29-92869334b0c3",
   "metadata": {},
   "source": [
    "## 1 Проведите дискретизацию признаков, используя KBinsDiscretizer, на следующее\n",
    "    количество диапазонов:\n",
    "    age - 5\n",
    "    creatinine_phosphokinase - 4\n",
    "    ejection_fraction - 6\n",
    "    platelets - 10\n",
    "    serum_creatinine - 7\n",
    "    serum_sodium - 4"
   ]
  },
  {
   "cell_type": "code",
   "execution_count": 32,
   "id": "99e26982-4893-4ca3-b479-9133394ed809",
   "metadata": {},
   "outputs": [],
   "source": [
    "kbins = preprocessing.KBinsDiscretizer(n_bins=[5, 4, 6, 10, 7, 4], encode='ordinal', strategy='uniform')\n",
    "#для удобства будем использовать ordinal чтобы графики хорошо строить\n",
    "data_bin = kbins.fit_transform(data) #тренеруем дискретизатор и сразу трансформируем данные"
   ]
  },
  {
   "cell_type": "markdown",
   "id": "32fea22d-688b-4eef-bd2e-3644cd6e83f7",
   "metadata": {},
   "source": [
    "## 2 Постройте гистограммы. Объясните полученные результаты"
   ]
  },
  {
   "cell_type": "code",
   "execution_count": 33,
   "id": "ccabe9f4-789c-4ffb-b8db-a2e406f65e1b",
   "metadata": {},
   "outputs": [
    {
     "data": {
      "image/png": "[encoded data removed]",
      "text/plain": [
       "<Figure size 640x480 with 6 Axes>"
      ]
     },
     "metadata": {},
     "output_type": "display_data"
    }
   ],
   "source": [
    "f(data_bin) #функция для построения графиков"
   ]
  },
  {
   "cell_type": "markdown",
   "id": "95bdc2ee-85c6-48d9-95eb-cd04934d4d40",
   "metadata": {},
   "source": [
    "по умолчанию используется strategy='quatile' это означает то, что бины будут строиться по трансформированному data в нормальное распределение, потому мы получили бы бины похожие на нормальное распределение, но библеотека ругается на какое-то маленькое значение бина и потому дропает его, потому мы сменили стретегию и наше распределение воспринималось как равномерное, потому мы получили, что-то похожее на исходные данные, но по бинам"
   ]
  },
  {
   "cell_type": "markdown",
   "id": "dad87f03-859a-4674-b2f3-19885de93b5b",
   "metadata": {},
   "source": [
    "## 3 Через параметр bin_edges_ выведите диапазоны каждого интервала для каждого признака"
   ]
  },
  {
   "cell_type": "code",
   "execution_count": 34,
   "id": "09a20e99-fe6c-43f5-a16b-acc2da4816d3",
   "metadata": {},
   "outputs": [
    {
     "data": {
      "text/plain": [
       "array([array([40., 51., 62., 73., 84., 95.]),\n",
       "       array([  23. , 1982.5, 3942. , 5901.5, 7861. ]),\n",
       "       array([14., 25., 36., 47., 58., 69., 80.]),\n",
       "       array([ 25100., 107590., 190080., 272570., 355060., 437550., 520040.,\n",
       "              602530., 685020., 767510., 850000.])                          ,\n",
       "       array([0.5       , 1.77142857, 3.04285714, 4.31428571, 5.58571429,\n",
       "              6.85714286, 8.12857143, 9.4       ])                       ,\n",
       "       array([113.  , 121.75, 130.5 , 139.25, 148.  ])], dtype=object)"
      ]
     },
     "execution_count": 34,
     "metadata": {},
     "output_type": "execute_result"
    }
   ],
   "source": [
    "kbins.bin_edges_ #выводим вершины бинов"
   ]
  },
  {
   "cell_type": "markdown",
   "id": "5c74034a-babc-4a0f-a867-0a61d9c70862",
   "metadata": {},
   "source": [
    "Ну вот бины, видно что диапазоны разбиты на равные части, то есть с определенным шагом, как и описано выше это из-за того, что strategy uniform"
   ]
  },
  {
   "cell_type": "markdown",
   "id": "cdf6e20c-8479-4840-af85-b6fecc3cdb07",
   "metadata": {},
   "source": [
    "# Вывод"
   ]
  },
  {
   "cell_type": "markdown",
   "id": "0ac5424d-a619-4b56-bbc4-5c8d06ad5864",
   "metadata": {},
   "source": [
    "Сложно подытожить какой-то результат по этим данным, все-таки лабораторная похоже больше на ознакомительную. НУ зато я смог вспомнить и узнать некоторые методы из библиотеки preprocessing и понять как они работают. "
   ]
  }
 ],
 "metadata": {
  "kernelspec": {
   "display_name": "Python 3 (ipykernel)",
   "language": "python",
   "name": "python3"
  },
  "language_info": {
   "codemirror_mode": {
    "name": "ipython",
    "version": 3
   },
   "file_extension": ".py",
   "mimetype": "text/x-python",
   "name": "python",
   "nbconvert_exporter": "python",
   "pygments_lexer": "ipython3",
   "version": "3.12.6"
  },
  "widgets": {
   "application/vnd.jupyter.widget-state+json": {
    "state": {},
    "version_major": 2,
    "version_minor": 0
   }
  }
 },
 "nbformat": 4,
 "nbformat_minor": 5
}
